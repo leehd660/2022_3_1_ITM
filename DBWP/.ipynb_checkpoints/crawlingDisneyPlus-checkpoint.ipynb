{
 "cells": [
  {
   "cell_type": "code",
   "execution_count": 45,
   "id": "4780797e",
   "metadata": {},
   "outputs": [],
   "source": [
    "# import requests\n",
    "# import time"
   ]
  },
  {
   "cell_type": "code",
   "execution_count": 1,
   "id": "1d1f92d7",
   "metadata": {
    "scrolled": true
   },
   "outputs": [],
   "source": [
    "# disneyPlus = \"https://www.disneyplus.com/ko-kr/movies/ca16db0d-be4b-45ee-b0a7-71bc6f896562\"\n",
    "# disney_drama = reuquests.get(disneyPlus)"
   ]
  },
  {
   "cell_type": "code",
   "execution_count": 3,
   "id": "670d27dd",
   "metadata": {},
   "outputs": [],
   "source": [
    "# disneyPlus = \"https://www.disneyplus.com/ko-kr/movies/ca16db0d-be4b-45ee-b0a7-71bc6f896562\"\n",
    "# disney_drama = requests.get(disneyPlus)"
   ]
  },
  {
   "cell_type": "code",
   "execution_count": 2,
   "id": "6dffb62b",
   "metadata": {},
   "outputs": [],
   "source": [
    "# disney_drama"
   ]
  },
  {
   "cell_type": "code",
   "execution_count": 15,
   "id": "eb0b9545",
   "metadata": {},
   "outputs": [],
   "source": [
    "# from bs4 import BeautifulSoup\n",
    "# disney_list = BeautifulSoup(disney_drama.content,\"html.parser\",from_encoding='utf-8')"
   ]
  },
  {
   "cell_type": "code",
   "execution_count": 3,
   "id": "2cfe8ee3",
   "metadata": {},
   "outputs": [],
   "source": [
    "# disney_drama_name = disney_list.select(\"\")\n",
    "# disney_drama_name"
   ]
  },
  {
   "cell_type": "code",
   "execution_count": 4,
   "id": "0ddfab53",
   "metadata": {},
   "outputs": [],
   "source": [
    "# disney_list"
   ]
  },
  {
   "cell_type": "code",
   "execution_count": 20,
   "id": "eff840d9",
   "metadata": {},
   "outputs": [],
   "source": [
    "# from selenium import webdriver"
   ]
  },
  {
   "cell_type": "code",
   "execution_count": 23,
   "id": "528ed40f",
   "metadata": {},
   "outputs": [],
   "source": [
    "# driver = webdriver.Chrome('/Users/leehd/Desktop/chromedriver')"
   ]
  },
  {
   "cell_type": "code",
   "execution_count": 25,
   "id": "3fd955d4",
   "metadata": {},
   "outputs": [],
   "source": [
    "# driver.get('https://www.disneyplus.com/ko-kr/login')"
   ]
  },
  {
   "cell_type": "code",
   "execution_count": 34,
   "id": "72febecd",
   "metadata": {},
   "outputs": [],
   "source": [
    "# driver.find_element_by_name('email').send_keys('d@naver.com')"
   ]
  },
  {
   "cell_type": "code",
   "execution_count": 35,
   "id": "4d701c55",
   "metadata": {},
   "outputs": [],
   "source": [
    "# driver.find_element_by_name('dssLoginSubmit').click()"
   ]
  },
  {
   "cell_type": "code",
   "execution_count": 36,
   "id": "94fd42d9",
   "metadata": {},
   "outputs": [],
   "source": [
    "# driver.find_element_by_name('password').send_keys('')"
   ]
  },
  {
   "cell_type": "code",
   "execution_count": 37,
   "id": "920147dc",
   "metadata": {},
   "outputs": [],
   "source": [
    "# driver.find_element_by_name('dssLoginSubmit').click()"
   ]
  },
  {
   "cell_type": "code",
   "execution_count": 39,
   "id": "182c100f",
   "metadata": {},
   "outputs": [],
   "source": [
    "# driver.find_element_by_xpath('//*[@id=\"remove-main-padding_index\"]/div/div/section/ul/div[6]/div').click()"
   ]
  },
  {
   "cell_type": "code",
   "execution_count": 41,
   "id": "6d816b56",
   "metadata": {},
   "outputs": [],
   "source": [
    "# driver.find_element_by_xpath('//*[@id=\"digit-0\"]').send_keys('')\n",
    "# driver.find_element_by_xpath('//*[@id=\"digit-1\"]').send_keys('')\n",
    "# driver.find_element_by_xpath('//*[@id=\"digit-2\"]').send_keys('')\n",
    "# driver.find_element_by_xpath('//*[@id=\"digit-3\"]').send_keys('')"
   ]
  },
  {
   "cell_type": "code",
   "execution_count": 57,
   "id": "d0dcef76",
   "metadata": {},
   "outputs": [
    {
     "name": "stdout",
     "output_type": "stream",
     "text": [
      "101마리의 달마시안 개\n",
      "101 달마시안\n",
      "101 달마시안 2\n",
      "102 달마시안\n",
      "12 라운드\n",
      "해저 2만리\n",
      "28일 후\n",
      "28주 후\n",
      "다이하드: 굿 데이 투 다이\n",
      "구피 무비 - 오리지널\n",
      "시간의 주름\n",
      "A-특공대\n",
      "링컨: 뱀파이어 헌터\n",
      "에어 포스 원\n",
      "알라딘\n",
      "알라딘\n",
      "알라딘과 도적의 왕\n",
      "알라딘 2: 돌아온 자파\n",
      "이상한 나라의 앨리스\n",
      "이상한 나라의 앨리스\n",
      "거울나라의 앨리스\n",
      "에이리언 4\n",
      "에이리언 VS. 프레데터\n",
      "에이리언 2\n",
      "에이리언 VS 프레데터 2\n",
      "알리타: 배틀 엔젤\n",
      "앤트맨과 와스프\n",
      "앤트맨\n",
      "아리스토캣\n",
      "아마겟돈\n"
     ]
    }
   ],
   "source": [
    "import requests\n",
    "import time\n",
    "from bs4 import BeautifulSoup\n",
    "from selenium import webdriver\n",
    "\n",
    "driver = webdriver.Chrome('/Users/leehd/Desktop/chromedriver')\n",
    "driver.get('https://www.disneyplus.com/ko-kr/login')\n",
    "time.sleep(7)\n",
    "\n",
    "driver.find_element_by_name('email').send_keys('@naver.com')\n",
    "driver.find_element_by_name('dssLoginSubmit').click()\n",
    "time.sleep(2)\n",
    "\n",
    "driver.find_element_by_name('password').send_keys('')\n",
    "driver.find_element_by_name('dssLoginSubmit').click()\n",
    "time.sleep(2)\n",
    "\n",
    "driver.find_element_by_xpath('//*[@id=\"remove-main-padding_index\"]/div/div/section/ul/div[6]/div').click()\n",
    "time.sleep(2)\n",
    "\n",
    "driver.find_element_by_xpath('//*[@id=\"digit-0\"]').send_keys('')\n",
    "driver.find_element_by_xpath('//*[@id=\"digit-1\"]').send_keys('')\n",
    "driver.find_element_by_xpath('//*[@id=\"digit-2\"]').send_keys('')\n",
    "driver.find_element_by_xpath('//*[@id=\"digit-3\"]').send_keys('')\n",
    "time.sleep(5)\n",
    "\n",
    "driver.get(\"https://www.disneyplus.com/ko-kr/movies/ffae7a4e-32be-4cb6-9c15-73cd9f2e2af1\")\n",
    "time.sleep(10)\n",
    "html = driver.page_source\n",
    "disney_action = BeautifulSoup(html, 'html.parser')\n",
    "disney_action_list = disney_action.select('.gv2-asset > a > div')\n",
    "\n",
    "for i in disney_action_list:\n",
    "    print(i['alt'])"
   ]
  },
  {
   "cell_type": "code",
   "execution_count": null,
   "id": "404b5cda",
   "metadata": {},
   "outputs": [],
   "source": []
  }
 ],
 "metadata": {
  "kernelspec": {
   "display_name": "Python 3 (ipykernel)",
   "language": "python",
   "name": "python3"
  },
  "language_info": {
   "codemirror_mode": {
    "name": "ipython",
    "version": 3
   },
   "file_extension": ".py",
   "mimetype": "text/x-python",
   "name": "python",
   "nbconvert_exporter": "python",
   "pygments_lexer": "ipython3",
   "version": "3.9.7"
  }
 },
 "nbformat": 4,
 "nbformat_minor": 5
}
