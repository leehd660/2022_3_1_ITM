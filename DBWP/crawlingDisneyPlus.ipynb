{
 "cells": [
  {
   "cell_type": "code",
   "execution_count": 45,
   "id": "4780797e",
   "metadata": {},
   "outputs": [],
   "source": [
    "# import requests\n",
    "# import time"
   ]
  },
  {
   "cell_type": "code",
   "execution_count": 1,
   "id": "1d1f92d7",
   "metadata": {
    "scrolled": true
   },
   "outputs": [],
   "source": [
    "# disneyPlus = \"https://www.disneyplus.com/ko-kr/movies/ca16db0d-be4b-45ee-b0a7-71bc6f896562\"\n",
    "# disney_drama = reuquests.get(disneyPlus)"
   ]
  },
  {
   "cell_type": "code",
   "execution_count": 3,
   "id": "670d27dd",
   "metadata": {},
   "outputs": [],
   "source": [
    "# disneyPlus = \"https://www.disneyplus.com/ko-kr/movies/ca16db0d-be4b-45ee-b0a7-71bc6f896562\"\n",
    "# disney_drama = requests.get(disneyPlus)"
   ]
  },
  {
   "cell_type": "code",
   "execution_count": 2,
   "id": "6dffb62b",
   "metadata": {},
   "outputs": [],
   "source": [
    "# disney_drama"
   ]
  },
  {
   "cell_type": "code",
   "execution_count": 15,
   "id": "eb0b9545",
   "metadata": {},
   "outputs": [],
   "source": [
    "# from bs4 import BeautifulSoup\n",
    "# disney_list = BeautifulSoup(disney_drama.content,\"html.parser\",from_encoding='utf-8')"
   ]
  },
  {
   "cell_type": "code",
   "execution_count": 3,
   "id": "2cfe8ee3",
   "metadata": {},
   "outputs": [],
   "source": [
    "# disney_drama_name = disney_list.select(\"\")\n",
    "# disney_drama_name"
   ]
  },
  {
   "cell_type": "code",
   "execution_count": 4,
   "id": "0ddfab53",
   "metadata": {},
   "outputs": [],
   "source": [
    "# disney_list"
   ]
  },
  {
   "cell_type": "code",
   "execution_count": 20,
   "id": "eff840d9",
   "metadata": {},
   "outputs": [],
   "source": [
    "# from selenium import webdriver"
   ]
  },
  {
   "cell_type": "code",
   "execution_count": 23,
   "id": "528ed40f",
   "metadata": {},
   "outputs": [],
   "source": [
    "# driver = webdriver.Chrome('/Users/leehd/Desktop/chromedriver')"
   ]
  },
  {
   "cell_type": "code",
   "execution_count": 25,
   "id": "3fd955d4",
   "metadata": {},
   "outputs": [],
   "source": [
    "# driver.get('https://www.disneyplus.com/ko-kr/login')"
   ]
  },
  {
   "cell_type": "code",
   "execution_count": 34,
   "id": "72febecd",
   "metadata": {},
   "outputs": [],
   "source": [
    "# driver.find_element_by_name('email').send_keys('d@naver.com')"
   ]
  },
  {
   "cell_type": "code",
   "execution_count": 35,
   "id": "4d701c55",
   "metadata": {},
   "outputs": [],
   "source": [
    "# driver.find_element_by_name('dssLoginSubmit').click()"
   ]
  },
  {
   "cell_type": "code",
   "execution_count": 36,
   "id": "94fd42d9",
   "metadata": {},
   "outputs": [],
   "source": [
    "# driver.find_element_by_name('password').send_keys('')"
   ]
  },
  {
   "cell_type": "code",
   "execution_count": 37,
   "id": "920147dc",
   "metadata": {},
   "outputs": [],
   "source": [
    "# driver.find_element_by_name('dssLoginSubmit').click()"
   ]
  },
  {
   "cell_type": "code",
   "execution_count": 39,
   "id": "182c100f",
   "metadata": {},
   "outputs": [],
   "source": [
    "# driver.find_element_by_xpath('//*[@id=\"remove-main-padding_index\"]/div/div/section/ul/div[6]/div').click()"
   ]
  },
  {
   "cell_type": "code",
   "execution_count": 41,
   "id": "6d816b56",
   "metadata": {},
   "outputs": [],
   "source": [
    "# driver.find_element_by_xpath('//*[@id=\"digit-0\"]').send_keys('')\n",
    "# driver.find_element_by_xpath('//*[@id=\"digit-1\"]').send_keys('')\n",
    "# driver.find_element_by_xpath('//*[@id=\"digit-2\"]').send_keys('')\n",
    "# driver.find_element_by_xpath('//*[@id=\"digit-3\"]').send_keys('')"
   ]
  },
  {
   "cell_type": "code",
   "execution_count": 18,
   "id": "d0dcef76",
   "metadata": {},
   "outputs": [],
   "source": [
    "import requests\n",
    "import time\n",
    "import csv\n",
    "from bs4 import BeautifulSoup\n",
    "from selenium import webdriver\n",
    "\n",
    "driver = webdriver.Chrome('/Users/leehd/Desktop/chromedriver')\n",
    "driver.get('https://www.disneyplus.com/ko-kr/login')\n",
    "time.sleep(7)\n",
    "\n",
    "driver.find_element_by_name('email').send_keys('@naver.com')\n",
    "driver.find_element_by_name('dssLoginSubmit').click()\n",
    "time.sleep(2)\n",
    "\n",
    "driver.find_element_by_name('password').send_keys('')\n",
    "driver.find_element_by_name('dssLoginSubmit').click()\n",
    "time.sleep(2)\n",
    "\n",
    "driver.find_element_by_xpath('//*[@id=\"remove-main-padding_index\"]/div/div/section/ul/div[6]/div').click()\n",
    "time.sleep(2)\n",
    "\n",
    "driver.find_element_by_xpath('//*[@id=\"digit-0\"]').send_keys('')\n",
    "driver.find_element_by_xpath('//*[@id=\"digit-1\"]').send_keys('')\n",
    "driver.find_element_by_xpath('//*[@id=\"digit-2\"]').send_keys('')\n",
    "driver.find_element_by_xpath('//*[@id=\"digit-3\"]').send_keys('')\n",
    "time.sleep(5)\n",
    "\n",
    "disneyUrlList = []\n",
    "disneyUrlList.append(\"1d6382cf-774f-4a88-bc35-cd93a5555194\")\n",
    "disneyUrlList.append(\"ffae7a4e-32be-4cb6-9c15-73cd9f2e2af1\")\n",
    "disneyUrlList.append(\"d3e78d24-457c-4a36-ac1c-808e457e4d64\")\n",
    "disneyUrlList.append(\"6466e067-ef14-46b2-bda9-09b2fd02d9d9\")\n",
    "disneyUrlList.append(\"ca16db0d-be4b-45ee-b0a7-71bc6f896562\")\n",
    "disneyUrlList.append(\"b9f7a7f9-120d-4be6-920e-2e8a8a8cdd50\")\n",
    "disneyUrlList.append(\"05ad34d3-9375-40a6-a117-ae8f8080e6e9\")\n",
    "disneyUrlList.append(\"34c856af-325c-4603-8d6b-dd9dc4695a69\")\n",
    "disneyUrlList.append(\"efc794fd-f6bd-4bcd-a1c1-98c6143550e1\")\n",
    "disneyUrlList.append(\"434e046a-fb7f-4193-811e-f84401f4bef9\")\n",
    "disneyUrlList.append(\"6335bf56-2be9-4e47-856a-3bae98516afa\")\n",
    "disneyUrlList.append(\"3314db38-283d-4f14-b4f1-6d749e264dd0\")\n",
    "\n",
    "\n",
    "for s in disneyUrlList :\n",
    "    driver.get(\"https://www.disneyplus.com/ko-kr/movies/\" + s)\n",
    "    time.sleep(5)\n",
    "\n",
    "    SCROLL_PAUSE_TIME = 1\n",
    "\n",
    "    #현재 페이지의 마지막 시점의 창 높이 저장\n",
    "    last_height = driver.execute_script(\"return document.body.scrollHeight\")\n",
    "\n",
    "    while True:\n",
    "            #Selenium에서 XPath, CSS 등의 위치 표시기는 웹 페이지에서 작업을 식별하고, 수행하는데 사용함. \n",
    "            #하지만 이러한 로케이터가 작동하지 않으면? JavaScriptExecutor를 사용할 수 있음.\n",
    "            #Selenium은 JavaScriptExecutor를 사용하여 웹 요소에서 원하는 작업을 수행할 수 있음.\n",
    "            #JavaScriptExecutor란, Selenium Webdrivr를 통해 JavaScript를 실행하는데 도움이 되는 interface.\n",
    "\n",
    "            # Scroll down to bottom(창 높이까지 스크롤 내리기)\n",
    "            driver.execute_script(\"window.scrollTo(0, document.body.scrollHeight);\")\n",
    "\n",
    "            # Wait to load page\n",
    "            time.sleep(SCROLL_PAUSE_TIME)\n",
    "            #한 번에 맨 마지막까지 스크롤되면 아래 리스트가 뜨지 않아서, 마지막을 찍고 조금 창을 올리는 방법으로 리스트가 로딩될 수 있게 함\n",
    "            #(웹 페이지마다 상황이 다른 것 같음.)\n",
    "    #         driver.execute_script(\"window.scrollTo(0, document.body.scrollHeight-50);\")\n",
    "            time.sleep(SCROLL_PAUSE_TIME)\n",
    "\n",
    "            # Calculate new scroll height and compare with last scroll height\n",
    "            new_height = driver.execute_script(\"return document.body.scrollHeight\")\n",
    "\n",
    "            if new_height == last_height:\n",
    "                break\n",
    "\n",
    "            last_height = new_height\n",
    "\n",
    "    html = driver.page_source\n",
    "    disney_page = BeautifulSoup(html, 'html.parser')\n",
    "    disneyCategory = disney_page.select_one('.css-nbuhub-singleValue').get_text()\n",
    "    disney_contents_list = disney_page.select('.gv2-asset > a > div')\n",
    "\n",
    "    print(disneyCategory)\n",
    "    for i in disney_contents_list:\n",
    "        print(i['alt'])\n",
    "    print(\"------------------------------------\")\n",
    "    \n",
    "    f = open(f'{disneyCategory}.csv','w',encoding='utf-8-sig',newline='') #파일오픈 \n",
    "    csvWriter = csv.writer(f)#열어둔 파일 \n",
    "    for i in disney_contents_list:\n",
    "        csvWriter.writerow([i['alt']])\n",
    "    f.close()\n"
   ]
  },
  {
   "cell_type": "code",
   "execution_count": null,
   "id": "404b5cda",
   "metadata": {},
   "outputs": [],
   "source": [
    "import requests\n",
    "import time\n",
    "import csv\n",
    "import pandas as pd\n",
    "from bs4 import BeautifulSoup\n",
    "from selenium import webdriver\n",
    "\n",
    "driver = webdriver.Chrome('/Users/leehd/Desktop/chromedriver')\n",
    "driver.get('https://www.disneyplus.com/ko-kr/login')\n",
    "time.sleep(7)\n",
    "\n",
    "driver.find_element_by_name('email').send_keys('@naver.com')\n",
    "driver.find_element_by_name('dssLoginSubmit').click()\n",
    "time.sleep(2)\n",
    "\n",
    "driver.find_element_by_name('password').send_keys('')\n",
    "driver.find_element_by_name('dssLoginSubmit').click()\n",
    "time.sleep(2)\n",
    "\n",
    "driver.find_element_by_xpath('//*[@id=\"remove-main-padding_index\"]/div/div/section/ul/div[6]/div').click()\n",
    "time.sleep(2)\n",
    "\n",
    "driver.find_element_by_xpath('//*[@id=\"digit-0\"]').send_keys('')\n",
    "driver.find_element_by_xpath('//*[@id=\"digit-1\"]').send_keys('')\n",
    "driver.find_element_by_xpath('//*[@id=\"digit-2\"]').send_keys('')\n",
    "driver.find_element_by_xpath('//*[@id=\"digit-3\"]').send_keys('')\n",
    "time.sleep(5)\n",
    "\n",
    "disneyUrlList = []\n",
    "disneyUrlList.append(\"1d6382cf-774f-4a88-bc35-cd93a5555194\")\n",
    "disneyUrlList.append(\"ffae7a4e-32be-4cb6-9c15-73cd9f2e2af1\")\n",
    "disneyUrlList.append(\"d3e78d24-457c-4a36-ac1c-808e457e4d64\")\n",
    "disneyUrlList.append(\"6466e067-ef14-46b2-bda9-09b2fd02d9d9\")\n",
    "disneyUrlList.append(\"ca16db0d-be4b-45ee-b0a7-71bc6f896562\")\n",
    "disneyUrlList.append(\"b9f7a7f9-120d-4be6-920e-2e8a8a8cdd50\")\n",
    "disneyUrlList.append(\"05ad34d3-9375-40a6-a117-ae8f8080e6e9\")\n",
    "disneyUrlList.append(\"34c856af-325c-4603-8d6b-dd9dc4695a69\")\n",
    "disneyUrlList.append(\"efc794fd-f6bd-4bcd-a1c1-98c6143550e1\")\n",
    "disneyUrlList.append(\"434e046a-fb7f-4193-811e-f84401f4bef9\")\n",
    "disneyUrlList.append(\"6335bf56-2be9-4e47-856a-3bae98516afa\")\n",
    "disneyUrlList.append(\"3314db38-283d-4f14-b4f1-6d749e264dd0\")\n",
    "\n",
    "#row data = {제목, {카테고리1, 카테고리2, ...}, DisneyPlus}\n",
    "allList = []\n",
    "maxCategoryNum = 0;\n",
    "\n",
    "for s in disneyUrlList :\n",
    "    driver.get(\"https://www.disneyplus.com/ko-kr/movies/\" + s)\n",
    "    time.sleep(5)\n",
    "\n",
    "    SCROLL_PAUSE_TIME = 1\n",
    "\n",
    "    #현재 페이지의 마지막 시점의 창 높이 저장\n",
    "    last_height = driver.execute_script(\"return document.body.scrollHeight\")\n",
    "\n",
    "    while True:\n",
    "            #Selenium에서 XPath, CSS 등의 위치 표시기는 웹 페이지에서 작업을 식별하고, 수행하는데 사용함. \n",
    "            #하지만 이러한 로케이터가 작동하지 않으면? JavaScriptExecutor를 사용할 수 있음.\n",
    "            #Selenium은 JavaScriptExecutor를 사용하여 웹 요소에서 원하는 작업을 수행할 수 있음.\n",
    "            #JavaScriptExecutor란, Selenium Webdrivr를 통해 JavaScript를 실행하는데 도움이 되는 interface.\n",
    "\n",
    "            # Scroll down to bottom(창 높이까지 스크롤 내리기)\n",
    "            driver.execute_script(\"window.scrollTo(0, document.body.scrollHeight);\")\n",
    "\n",
    "            # Wait to load page\n",
    "            time.sleep(SCROLL_PAUSE_TIME)\n",
    "            #한 번에 맨 마지막까지 스크롤되면 아래 리스트가 뜨지 않아서, 마지막을 찍고 조금 창을 올리는 방법으로 리스트가 로딩될 수 있게 함\n",
    "            #(웹 페이지마다 상황이 다른 것 같음.)\n",
    "    #         driver.execute_script(\"window.scrollTo(0, document.body.scrollHeight-50);\")\n",
    "            time.sleep(SCROLL_PAUSE_TIME)\n",
    "\n",
    "            # Calculate new scroll height and compare with last scroll height\n",
    "            new_height = driver.execute_script(\"return document.body.scrollHeight\")\n",
    "\n",
    "            if new_height == last_height:\n",
    "                break\n",
    "\n",
    "            last_height = new_height\n",
    "\n",
    "    html = driver.page_source\n",
    "    disney_page = BeautifulSoup(html, 'html.parser')\n",
    "    disneyCategory = disney_page.select_one('.css-nbuhub-singleValue').get_text()\n",
    "    disney_contents_list = disney_page.select('.gv2-asset > a > div')\n",
    "    \n",
    "    for title in disney_contents_list :\n",
    "        if len(allList) == 0:\n",
    "            content = []\n",
    "            content.append(title['alt'])\n",
    "            cateList = set()\n",
    "            cateList.add(disneyCategory)\n",
    "            content.append(cateList)\n",
    "            content.append('disney')\n",
    "            allList.append(content)\n",
    "            if (maxCategoryNum < len(cateList)) :\n",
    "                maxCategoryNum = len(cateList)\n",
    "        else :\n",
    "            check = False\n",
    "            for index in range(len(allList)) :\n",
    "                if title['alt'] == allList[index][0] :\n",
    "                    allList[index][1].add(disneyCategory)\n",
    "                    if (maxCategoryNum < len(allList[index][1])) :\n",
    "                        maxCategoryNum = len(allList[index][1])\n",
    "                    check = True\n",
    "                    break\n",
    "            if not check:\n",
    "                content = []\n",
    "                content.append(title['alt'])\n",
    "                cateList = set()\n",
    "                cateList.add(disneyCategory)\n",
    "                content.append(cateList)\n",
    "                content.append('disney')\n",
    "                allList.append(content)\n",
    "\n",
    "df = pd.DataFrame(columns=['title','company', 'category1', 'category2', 'category3', 'category4', 'category5'])\n",
    "for index in range(len(allList)):\n",
    "    list = []\n",
    "    list.append(allList[index][0])\n",
    "    list.append(allList[index][2])\n",
    "    for c in allList[index][1] :\n",
    "        list.append(c)\n",
    "    for num in range(5-len(allList[index][1])) :\n",
    "        list.append(None)\n",
    "    df.loc[index] = list\n",
    "\n",
    "df.to_csv(\"disneyPlus.csv\", encoding=\"utf-8-sig\")"
   ]
  },
  {
   "cell_type": "code",
   "execution_count": null,
   "id": "ac21df25",
   "metadata": {},
   "outputs": [],
   "source": []
  }
 ],
 "metadata": {
  "kernelspec": {
   "display_name": "Python 3 (ipykernel)",
   "language": "python",
   "name": "python3"
  },
  "language_info": {
   "codemirror_mode": {
    "name": "ipython",
    "version": 3
   },
   "file_extension": ".py",
   "mimetype": "text/x-python",
   "name": "python",
   "nbconvert_exporter": "python",
   "pygments_lexer": "ipython3",
   "version": "3.9.7"
  }
 },
 "nbformat": 4,
 "nbformat_minor": 5
}
